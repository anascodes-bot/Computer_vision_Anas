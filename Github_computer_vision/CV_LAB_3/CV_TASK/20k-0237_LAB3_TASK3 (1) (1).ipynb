{
 "cells": [
  {
   "cell_type": "markdown",
   "id": "0dd324e8",
   "metadata": {},
   "source": [
    "### IMPORT LIBRARIES\n"
   ]
  },
  {
   "cell_type": "code",
   "execution_count": 1,
   "id": "9d9acf93",
   "metadata": {},
   "outputs": [],
   "source": [
    "import cv2\n",
    "import numpy as np"
   ]
  },
  {
   "cell_type": "markdown",
   "id": "b81db65e",
   "metadata": {},
   "source": [
    "\n",
    "## TASK 3\n"
   ]
  },
  {
   "cell_type": "markdown",
   "id": "8da14962",
   "metadata": {},
   "source": [
    "### Video Capture Setup\n",
    "\n",
    "### Run this code and it will open camera and record video\"\n"
   ]
  },
  {
   "cell_type": "code",
   "execution_count": 3,
   "id": "24f1f79d",
   "metadata": {},
   "outputs": [],
   "source": [
    "\n",
    "cap = cv2.VideoCapture(0) \n",
    "\n",
    "if not cap.isOpened():\n",
    "    print(\"Cannot open camera.\")\n",
    "else:\n",
    " \n",
    "    fourcc = cv2.VideoWriter_fourcc(*'XVID')\n",
    "    out = cv2.VideoWriter('output.avi', fourcc, 20.0, (640, 480))  \n",
    "\n",
    "    while True:\n",
    "\n",
    "        ret, frame = cap.read()\n",
    "\n",
    "  \n",
    "        if not ret:\n",
    "            print(\"Cannot capture frame from the camera.\")\n",
    "            break\n",
    "\n",
    "       \n",
    "        out.write(frame)\n",
    "\n",
    "    \n",
    "        cv2.imshow('Camera Feed', frame)\n",
    "\n",
    "        if cv2.waitKey(1) & 0xFF == ord('q'):\n",
    "            break\n",
    "\n",
    "    cap.release()\n",
    "    out.release()\n",
    "    cv2.destroyAllWindows()\n"
   ]
  },
  {
   "cell_type": "markdown",
   "id": "1b98bec0",
   "metadata": {},
   "source": [
    "\n",
    "### Real-Time Video Processing Loop\n",
    "\n",
    "### Run this code it will display video "
   ]
  },
  {
   "cell_type": "code",
   "execution_count": 4,
   "id": "8f36fceb",
   "metadata": {},
   "outputs": [
    {
     "name": "stdout",
     "output_type": "stream",
     "text": [
      "End of video.\n"
     ]
    }
   ],
   "source": [
    "\n",
    "video_path = 'output.avi'  \n",
    "\n",
    "cap = cv2.VideoCapture(video_path)\n",
    "\n",
    "if not cap.isOpened():\n",
    "    print(\"Cannot open video file.\")\n",
    "else:\n",
    "    while True:\n",
    "        ret, frame = cap.read()\n",
    "\n",
    "        if not ret:\n",
    "            print(\"End of video.\")\n",
    "            break\n",
    "     \n",
    "        cv2.imshow('Video Playback', frame)\n",
    "    \n",
    "        if cv2.waitKey(1) & 0xFF == ord('q'):\n",
    "            break\n",
    "\n",
    "    cap.release()\n",
    "    cv2.destroyAllWindows()\n",
    "\n"
   ]
  },
  {
   "cell_type": "markdown",
   "id": "00a0322b",
   "metadata": {},
   "source": [
    "### For each captured frame\n"
   ]
  },
  {
   "cell_type": "code",
   "execution_count": 12,
   "id": "c2b7a4d7",
   "metadata": {},
   "outputs": [
    {
     "name": "stdout",
     "output_type": "stream",
     "text": [
      "End of video.\n"
     ]
    }
   ],
   "source": [
    "video_path = 'output.avi'  \n",
    "cap = cv2.VideoCapture(video_path)\n",
    "\n",
    "if not cap.isOpened():\n",
    "    print(\"Cannot open video file.\")\n",
    "else:\n",
    "    frame_width = int(cap.get(3))\n",
    "    frame_height = int(cap.get(4))\n",
    "\n",
    "    fourcc = cv2.VideoWriter_fourcc(*'XVID')\n",
    "    out = cv2.VideoWriter('processed_video.avi', fourcc, 20.0, (frame_width, frame_height))\n",
    "    \n",
    "    while True:        \n",
    "        ret, frame = cap.read()        \n",
    "        if not ret:\n",
    "            print(\"End of video.\")\n",
    "            break\n",
    "        \n",
    "        gray_frame = cv2.cvtColor(frame, cv2.COLOR_BGR2GRAY)\n",
    "        \n",
    "        \n",
    "        # Apply histogram equalization for contrast enhancement.\n",
    "        equ = cv2.equalizeHist(gray_frame)\n",
    "        \n",
    "        # Convert the frame to a colored heatmap using the \"jet\" colormap.\n",
    "        heatmap = cv2.applyColorMap(equ, cv2.COLORMAP_JET)\n",
    "\n",
    "        # Apply color balance adjustment to correct any color casts.\n",
    "        alpha = 1.5  \n",
    "        beta = 1.2   \n",
    "        color_balanced = heatmap.copy()\n",
    "        color_balanced[:, :, 0] = np.clip(heatmap[:, :, 0] * alpha, 0, 255).astype(np.uint8)\n",
    "        color_balanced[:, :, 2] = np.clip(heatmap[:, :, 2] * beta, 0, 255).astype(np.uint8)\n",
    "        \n",
    "        # Apply a logarithmic transformation to enhance visibility in dark regions.\n",
    "        log_transformed = np.log1p(color_balanced)\n",
    "        \n",
    "        # Apply a power-law transformation for fine-tuning contrast.\n",
    "        gamma = 0.7\n",
    "        power_law = np.power(log_transformed, gamma)\n",
    "\n",
    "        power_law_visualized = (255 * (power_law / np.max(power_law))).astype(np.uint8)\n",
    "        \n",
    "        resize_width = 320\n",
    "\n",
    "        frame_resized = cv2.resize(frame, (resize_width, frame_height)) # Display the original live video stream.\n",
    "        gray_frame_resized = cv2.cvtColor(cv2.resize(gray_frame, (resize_width, frame_height)), cv2.COLOR_GRAY2BGR)\n",
    "        heatmap_resized = cv2.resize(heatmap, (resize_width, frame_height))\n",
    "        color_balanced_resized = cv2.resize(color_balanced, (resize_width, frame_height))\n",
    "        power_law_resized = cv2.resize(power_law_visualized, (resize_width, frame_height))\n",
    "\n",
    "        # Display individual frames with each operation applied side by side for comparison.\n",
    "        side_by_side = np.hstack((frame_resized, gray_frame_resized, heatmap_resized, color_balanced_resized, power_law_resized))\n",
    "        cv2.imshow('Frames Comparison', side_by_side)\n",
    "\n",
    "        out.write(power_law_visualized)  \n",
    "\n",
    "       \n",
    "        if cv2.waitKey(1) & 0xFF == ord('q'):\n",
    "            break\n",
    "\n",
    "    \n",
    "    cap.release()\n",
    "    out.release()\n",
    "    cv2.destroyAllWindows()\n"
   ]
  },
  {
   "cell_type": "code",
   "execution_count": null,
   "id": "aa1eb55c",
   "metadata": {},
   "outputs": [],
   "source": []
  }
 ],
 "metadata": {
  "kernelspec": {
   "display_name": "Python 3 (ipykernel)",
   "language": "python",
   "name": "python3"
  },
  "language_info": {
   "codemirror_mode": {
    "name": "ipython",
    "version": 3
   },
   "file_extension": ".py",
   "mimetype": "text/x-python",
   "name": "python",
   "nbconvert_exporter": "python",
   "pygments_lexer": "ipython3",
   "version": "3.10.9"
  }
 },
 "nbformat": 4,
 "nbformat_minor": 5
}
